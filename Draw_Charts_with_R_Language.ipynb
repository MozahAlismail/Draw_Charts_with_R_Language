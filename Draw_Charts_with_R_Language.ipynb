{
 "cells": [
  {
   "cell_type": "markdown",
   "metadata": {},
   "source": [
    "Author: Mozah Abdulrahman Alismail\n",
    "\n",
    "## Draw Charts with R Language"
   ]
  },
  {
   "cell_type": "markdown",
   "metadata": {},
   "source": [
    "### Loading Data & Explore the data"
   ]
  },
  {
   "cell_type": "code",
   "execution_count": 1,
   "metadata": {
    "vscode": {
     "languageId": "r"
    }
   },
   "outputs": [
    {
     "data": {
      "text/html": [
       "<table class=\"dataframe\">\n",
       "<caption>A data.frame: 5 × 8</caption>\n",
       "<thead>\n",
       "\t<tr><th></th><th scope=col>gender</th><th scope=col>race.ethnicity</th><th scope=col>parental.level.of.education</th><th scope=col>lunch</th><th scope=col>test.preparation.course</th><th scope=col>math.score</th><th scope=col>reading.score</th><th scope=col>writing.score</th></tr>\n",
       "\t<tr><th></th><th scope=col>&lt;chr&gt;</th><th scope=col>&lt;chr&gt;</th><th scope=col>&lt;chr&gt;</th><th scope=col>&lt;chr&gt;</th><th scope=col>&lt;chr&gt;</th><th scope=col>&lt;int&gt;</th><th scope=col>&lt;int&gt;</th><th scope=col>&lt;int&gt;</th></tr>\n",
       "</thead>\n",
       "<tbody>\n",
       "\t<tr><th scope=row>1</th><td>female</td><td>group B</td><td>bachelor's degree </td><td>standard    </td><td>none     </td><td>72</td><td>72</td><td>74</td></tr>\n",
       "\t<tr><th scope=row>2</th><td>female</td><td>group C</td><td>some college      </td><td>standard    </td><td>completed</td><td>69</td><td>90</td><td>88</td></tr>\n",
       "\t<tr><th scope=row>3</th><td>female</td><td>group B</td><td>master's degree   </td><td>standard    </td><td>none     </td><td>90</td><td>95</td><td>93</td></tr>\n",
       "\t<tr><th scope=row>4</th><td>male  </td><td>group A</td><td>associate's degree</td><td>free/reduced</td><td>none     </td><td>47</td><td>57</td><td>44</td></tr>\n",
       "\t<tr><th scope=row>5</th><td>male  </td><td>group C</td><td>some college      </td><td>standard    </td><td>none     </td><td>76</td><td>78</td><td>75</td></tr>\n",
       "</tbody>\n",
       "</table>\n"
      ],
      "text/latex": [
       "A data.frame: 5 × 8\n",
       "\\begin{tabular}{r|llllllll}\n",
       "  & gender & race.ethnicity & parental.level.of.education & lunch & test.preparation.course & math.score & reading.score & writing.score\\\\\n",
       "  & <chr> & <chr> & <chr> & <chr> & <chr> & <int> & <int> & <int>\\\\\n",
       "\\hline\n",
       "\t1 & female & group B & bachelor's degree  & standard     & none      & 72 & 72 & 74\\\\\n",
       "\t2 & female & group C & some college       & standard     & completed & 69 & 90 & 88\\\\\n",
       "\t3 & female & group B & master's degree    & standard     & none      & 90 & 95 & 93\\\\\n",
       "\t4 & male   & group A & associate's degree & free/reduced & none      & 47 & 57 & 44\\\\\n",
       "\t5 & male   & group C & some college       & standard     & none      & 76 & 78 & 75\\\\\n",
       "\\end{tabular}\n"
      ],
      "text/markdown": [
       "\n",
       "A data.frame: 5 × 8\n",
       "\n",
       "| <!--/--> | gender &lt;chr&gt; | race.ethnicity &lt;chr&gt; | parental.level.of.education &lt;chr&gt; | lunch &lt;chr&gt; | test.preparation.course &lt;chr&gt; | math.score &lt;int&gt; | reading.score &lt;int&gt; | writing.score &lt;int&gt; |\n",
       "|---|---|---|---|---|---|---|---|---|\n",
       "| 1 | female | group B | bachelor's degree  | standard     | none      | 72 | 72 | 74 |\n",
       "| 2 | female | group C | some college       | standard     | completed | 69 | 90 | 88 |\n",
       "| 3 | female | group B | master's degree    | standard     | none      | 90 | 95 | 93 |\n",
       "| 4 | male   | group A | associate's degree | free/reduced | none      | 47 | 57 | 44 |\n",
       "| 5 | male   | group C | some college       | standard     | none      | 76 | 78 | 75 |\n",
       "\n"
      ],
      "text/plain": [
       "  gender race.ethnicity parental.level.of.education lunch       \n",
       "1 female group B        bachelor's degree           standard    \n",
       "2 female group C        some college                standard    \n",
       "3 female group B        master's degree             standard    \n",
       "4 male   group A        associate's degree          free/reduced\n",
       "5 male   group C        some college                standard    \n",
       "  test.preparation.course math.score reading.score writing.score\n",
       "1 none                    72         72            74           \n",
       "2 completed               69         90            88           \n",
       "3 none                    90         95            93           \n",
       "4 none                    47         57            44           \n",
       "5 none                    76         78            75           "
      ]
     },
     "metadata": {},
     "output_type": "display_data"
    }
   ],
   "source": [
    "# Load and display a sample of student performance data\n",
    "\n",
    "students_data <- read.csv(\"StudentsPerformance.csv\")\n",
    "\n",
    "head(students_data,5)"
   ]
  },
  {
   "cell_type": "code",
   "execution_count": 2,
   "metadata": {
    "vscode": {
     "languageId": "r"
    }
   },
   "outputs": [
    {
     "data": {
      "text/html": [
       "<style>\n",
       ".list-inline {list-style: none; margin:0; padding: 0}\n",
       ".list-inline>li {display: inline-block}\n",
       ".list-inline>li:not(:last-child)::after {content: \"\\00b7\"; padding: 0 .5ex}\n",
       "</style>\n",
       "<ol class=list-inline><li>1000</li><li>8</li></ol>\n"
      ],
      "text/latex": [
       "\\begin{enumerate*}\n",
       "\\item 1000\n",
       "\\item 8\n",
       "\\end{enumerate*}\n"
      ],
      "text/markdown": [
       "1. 1000\n",
       "2. 8\n",
       "\n",
       "\n"
      ],
      "text/plain": [
       "[1] 1000    8"
      ]
     },
     "metadata": {},
     "output_type": "display_data"
    }
   ],
   "source": [
    "# Display the dimensions of the data frame\n",
    "\n",
    "dim(students_data)"
   ]
  },
  {
   "cell_type": "markdown",
   "metadata": {},
   "source": [
    "Note: There is are 1000 rows which represents the number of students and there are 8 colums which represent the features in our data."
   ]
  },
  {
   "cell_type": "code",
   "execution_count": 3,
   "metadata": {
    "vscode": {
     "languageId": "r"
    }
   },
   "outputs": [
    {
     "data": {
      "text/html": [
       "'Number of rows (students): 1000'"
      ],
      "text/latex": [
       "'Number of rows (students): 1000'"
      ],
      "text/markdown": [
       "'Number of rows (students): 1000'"
      ],
      "text/plain": [
       "[1] \"Number of rows (students): 1000\""
      ]
     },
     "metadata": {},
     "output_type": "display_data"
    },
    {
     "data": {
      "text/html": [
       "'Number of columns (features): 8'"
      ],
      "text/latex": [
       "'Number of columns (features): 8'"
      ],
      "text/markdown": [
       "'Number of columns (features): 8'"
      ],
      "text/plain": [
       "[1] \"Number of columns (features): 8\""
      ]
     },
     "metadata": {},
     "output_type": "display_data"
    }
   ],
   "source": [
    "# To make is clearer\n",
    "\n",
    "# Number of rows (students)\n",
    "row <- nrow(students_data)\n",
    "paste(\"Number of rows (students):\", as.character(row))\n",
    "\n",
    "# Number of columns (features)\n",
    "col <- ncol(students_data)\n",
    "paste(\"Number of columns (features):\", as.character(col))"
   ]
  },
  {
   "cell_type": "code",
   "execution_count": 4,
   "metadata": {
    "vscode": {
     "languageId": "r"
    }
   },
   "outputs": [
    {
     "name": "stdout",
     "output_type": "stream",
     "text": [
      "'data.frame':\t1000 obs. of  8 variables:\n",
      " $ gender                     : chr  \"female\" \"female\" \"female\" \"male\" ...\n",
      " $ race.ethnicity             : chr  \"group B\" \"group C\" \"group B\" \"group A\" ...\n",
      " $ parental.level.of.education: chr  \"bachelor's degree\" \"some college\" \"master's degree\" \"associate's degree\" ...\n",
      " $ lunch                      : chr  \"standard\" \"standard\" \"standard\" \"free/reduced\" ...\n",
      " $ test.preparation.course    : chr  \"none\" \"completed\" \"none\" \"none\" ...\n",
      " $ math.score                 : int  72 69 90 47 76 71 88 40 64 38 ...\n",
      " $ reading.score              : int  72 90 95 57 78 83 95 43 64 60 ...\n",
      " $ writing.score              : int  74 88 93 44 75 78 92 39 67 50 ...\n"
     ]
    }
   ],
   "source": [
    "# Display the structure of the data frame\n",
    "\n",
    "str(students_data)"
   ]
  },
  {
   "cell_type": "markdown",
   "metadata": {},
   "source": [
    "Note: There is 5 Factors and 3 Integers in the student performance data frame."
   ]
  },
  {
   "cell_type": "code",
   "execution_count": 5,
   "metadata": {
    "vscode": {
     "languageId": "r"
    }
   },
   "outputs": [
    {
     "data": {
      "text/plain": [
       "    gender          race.ethnicity     parental.level.of.education\n",
       " Length:1000        Length:1000        Length:1000                \n",
       " Class :character   Class :character   Class :character           \n",
       " Mode  :character   Mode  :character   Mode  :character           \n",
       "                                                                  \n",
       "                                                                  \n",
       "                                                                  \n",
       "    lunch           test.preparation.course   math.score     reading.score   \n",
       " Length:1000        Length:1000             Min.   :  0.00   Min.   : 17.00  \n",
       " Class :character   Class :character        1st Qu.: 57.00   1st Qu.: 59.00  \n",
       " Mode  :character   Mode  :character        Median : 66.00   Median : 70.00  \n",
       "                                            Mean   : 66.09   Mean   : 69.17  \n",
       "                                            3rd Qu.: 77.00   3rd Qu.: 79.00  \n",
       "                                            Max.   :100.00   Max.   :100.00  \n",
       " writing.score   \n",
       " Min.   : 10.00  \n",
       " 1st Qu.: 57.75  \n",
       " Median : 69.00  \n",
       " Mean   : 68.05  \n",
       " 3rd Qu.: 79.00  \n",
       " Max.   :100.00  "
      ]
     },
     "metadata": {},
     "output_type": "display_data"
    }
   ],
   "source": [
    "# display the structure of the data frame \n",
    "\n",
    "summary(students_data)"
   ]
  },
  {
   "cell_type": "code",
   "execution_count": 6,
   "metadata": {
    "vscode": {
     "languageId": "r"
    }
   },
   "outputs": [
    {
     "data": {
      "text/html": [
       "'The Number of missing Data is : 0'"
      ],
      "text/latex": [
       "'The Number of missing Data is : 0'"
      ],
      "text/markdown": [
       "'The Number of missing Data is : 0'"
      ],
      "text/plain": [
       "[1] \"The Number of missing Data is : 0\""
      ]
     },
     "metadata": {},
     "output_type": "display_data"
    }
   ],
   "source": [
    "# Check for missing values\n",
    "\n",
    "missing_values <- sum(is.na(students_data))\n",
    "paste(\"The Number of missing Data is :\", as.character(missing_values))\n",
    "\n",
    "# or for each column (more detailed) \n",
    "#missing_values <- colSums(is.na(students_data))\n",
    "#missing_values"
   ]
  },
  {
   "cell_type": "code",
   "execution_count": 7,
   "metadata": {
    "vscode": {
     "languageId": "r"
    }
   },
   "outputs": [
    {
     "data": {
      "text/html": [
       "'The Number of duplicated rows is : 0'"
      ],
      "text/latex": [
       "'The Number of duplicated rows is : 0'"
      ],
      "text/markdown": [
       "'The Number of duplicated rows is : 0'"
      ],
      "text/plain": [
       "[1] \"The Number of duplicated rows is : 0\""
      ]
     },
     "metadata": {},
     "output_type": "display_data"
    }
   ],
   "source": [
    "# Check for duplicated rows\n",
    "\n",
    "duplicated_rows <- sum(duplicated(students_data))\n",
    "paste(\"The Number of duplicated rows is :\", as.character(duplicated_rows))"
   ]
  },
  {
   "cell_type": "markdown",
   "metadata": {},
   "source": [
    "### Task 01: How does the performance (math, reading, and writing scores) of students vary by their gender? \n",
    "\n",
    "(Hint: calculate the average for each scores and groupby the result by gender and draw the result as a bar chart)"
   ]
  },
  {
   "cell_type": "code",
   "execution_count": 8,
   "metadata": {
    "vscode": {
     "languageId": "r"
    }
   },
   "outputs": [],
   "source": [
    "# Calculate the average scores for each students Function\n",
    "\n",
    "Calculate_Average_Score <- function(students_data) {\n",
    "   \n",
    "    Average_Vector <- c()\n",
    "    rows <- nrow(students_data)\n",
    "\n",
    "    for (student in 1:rows) {\n",
    "\n",
    "        # Define the scores\n",
    "        math_score <- students_data$math.score[student]\n",
    "        reading_score <- students_data$reading.score[student]\n",
    "        writing_score <- students_data$writing.score[student]\n",
    "\n",
    "        # Calculate the average score using R Math functions\n",
    "        mean_score <- mean(c(math_score, reading_score, writing_score))\n",
    "\n",
    "        # Add the average score to the vector\n",
    "        Average_Vector <- c(Average_Vector, mean_score)\n",
    "    }\n",
    "\n",
    "    return(Average_Vector)\n",
    "}"
   ]
  },
  {
   "cell_type": "code",
   "execution_count": 9,
   "metadata": {
    "vscode": {
     "languageId": "r"
    }
   },
   "outputs": [
    {
     "data": {
      "text/html": [
       "'First 5 values of the Average Vector'"
      ],
      "text/latex": [
       "'First 5 values of the Average Vector'"
      ],
      "text/markdown": [
       "'First 5 values of the Average Vector'"
      ],
      "text/plain": [
       "[1] \"First 5 values of the Average Vector\""
      ]
     },
     "metadata": {},
     "output_type": "display_data"
    },
    {
     "data": {
      "text/html": [
       "<style>\n",
       ".list-inline {list-style: none; margin:0; padding: 0}\n",
       ".list-inline>li {display: inline-block}\n",
       ".list-inline>li:not(:last-child)::after {content: \"\\00b7\"; padding: 0 .5ex}\n",
       "</style>\n",
       "<ol class=list-inline><li>72.6666666666667</li><li>82.3333333333333</li><li>92.6666666666667</li><li>49.3333333333333</li><li>76.3333333333333</li></ol>\n"
      ],
      "text/latex": [
       "\\begin{enumerate*}\n",
       "\\item 72.6666666666667\n",
       "\\item 82.3333333333333\n",
       "\\item 92.6666666666667\n",
       "\\item 49.3333333333333\n",
       "\\item 76.3333333333333\n",
       "\\end{enumerate*}\n"
      ],
      "text/markdown": [
       "1. 72.6666666666667\n",
       "2. 82.3333333333333\n",
       "3. 92.6666666666667\n",
       "4. 49.3333333333333\n",
       "5. 76.3333333333333\n",
       "\n",
       "\n"
      ],
      "text/plain": [
       "[1] 72.66667 82.33333 92.66667 49.33333 76.33333"
      ]
     },
     "metadata": {},
     "output_type": "display_data"
    },
    {
     "data": {
      "text/html": [
       "'The length of the Average Vector is : 1000'"
      ],
      "text/latex": [
       "'The length of the Average Vector is : 1000'"
      ],
      "text/markdown": [
       "'The length of the Average Vector is : 1000'"
      ],
      "text/plain": [
       "[1] \"The length of the Average Vector is : 1000\""
      ]
     },
     "metadata": {},
     "output_type": "display_data"
    }
   ],
   "source": [
    "# Call the function and store the result in a vector\n",
    "Average_Vector <- Calculate_Average_Score(students_data)\n",
    "\n",
    "# To Check the first 5 values\n",
    "\"First 5 values of the Average Vector\"\n",
    "head(Average_Vector, 5)\n",
    "\n",
    "# To check the length of the vector\n",
    "Average_Vector_length <- length(Average_Vector)\n",
    "paste(\"The length of the Average Vector is :\", as.character(Average_Vector_length))"
   ]
  },
  {
   "cell_type": "code",
   "execution_count": 10,
   "metadata": {
    "vscode": {
     "languageId": "r"
    }
   },
   "outputs": [
    {
     "data": {
      "text/html": [
       "<table class=\"dataframe\">\n",
       "<caption>A data.frame: 5 × 9</caption>\n",
       "<thead>\n",
       "\t<tr><th></th><th scope=col>gender</th><th scope=col>race.ethnicity</th><th scope=col>parental.level.of.education</th><th scope=col>lunch</th><th scope=col>test.preparation.course</th><th scope=col>math.score</th><th scope=col>reading.score</th><th scope=col>writing.score</th><th scope=col>Average_Vector</th></tr>\n",
       "\t<tr><th></th><th scope=col>&lt;chr&gt;</th><th scope=col>&lt;chr&gt;</th><th scope=col>&lt;chr&gt;</th><th scope=col>&lt;chr&gt;</th><th scope=col>&lt;chr&gt;</th><th scope=col>&lt;int&gt;</th><th scope=col>&lt;int&gt;</th><th scope=col>&lt;int&gt;</th><th scope=col>&lt;dbl&gt;</th></tr>\n",
       "</thead>\n",
       "<tbody>\n",
       "\t<tr><th scope=row>1</th><td>female</td><td>group B</td><td>bachelor's degree </td><td>standard    </td><td>none     </td><td>72</td><td>72</td><td>74</td><td>72.66667</td></tr>\n",
       "\t<tr><th scope=row>2</th><td>female</td><td>group C</td><td>some college      </td><td>standard    </td><td>completed</td><td>69</td><td>90</td><td>88</td><td>82.33333</td></tr>\n",
       "\t<tr><th scope=row>3</th><td>female</td><td>group B</td><td>master's degree   </td><td>standard    </td><td>none     </td><td>90</td><td>95</td><td>93</td><td>92.66667</td></tr>\n",
       "\t<tr><th scope=row>4</th><td>male  </td><td>group A</td><td>associate's degree</td><td>free/reduced</td><td>none     </td><td>47</td><td>57</td><td>44</td><td>49.33333</td></tr>\n",
       "\t<tr><th scope=row>5</th><td>male  </td><td>group C</td><td>some college      </td><td>standard    </td><td>none     </td><td>76</td><td>78</td><td>75</td><td>76.33333</td></tr>\n",
       "</tbody>\n",
       "</table>\n"
      ],
      "text/latex": [
       "A data.frame: 5 × 9\n",
       "\\begin{tabular}{r|lllllllll}\n",
       "  & gender & race.ethnicity & parental.level.of.education & lunch & test.preparation.course & math.score & reading.score & writing.score & Average\\_Vector\\\\\n",
       "  & <chr> & <chr> & <chr> & <chr> & <chr> & <int> & <int> & <int> & <dbl>\\\\\n",
       "\\hline\n",
       "\t1 & female & group B & bachelor's degree  & standard     & none      & 72 & 72 & 74 & 72.66667\\\\\n",
       "\t2 & female & group C & some college       & standard     & completed & 69 & 90 & 88 & 82.33333\\\\\n",
       "\t3 & female & group B & master's degree    & standard     & none      & 90 & 95 & 93 & 92.66667\\\\\n",
       "\t4 & male   & group A & associate's degree & free/reduced & none      & 47 & 57 & 44 & 49.33333\\\\\n",
       "\t5 & male   & group C & some college       & standard     & none      & 76 & 78 & 75 & 76.33333\\\\\n",
       "\\end{tabular}\n"
      ],
      "text/markdown": [
       "\n",
       "A data.frame: 5 × 9\n",
       "\n",
       "| <!--/--> | gender &lt;chr&gt; | race.ethnicity &lt;chr&gt; | parental.level.of.education &lt;chr&gt; | lunch &lt;chr&gt; | test.preparation.course &lt;chr&gt; | math.score &lt;int&gt; | reading.score &lt;int&gt; | writing.score &lt;int&gt; | Average_Vector &lt;dbl&gt; |\n",
       "|---|---|---|---|---|---|---|---|---|---|\n",
       "| 1 | female | group B | bachelor's degree  | standard     | none      | 72 | 72 | 74 | 72.66667 |\n",
       "| 2 | female | group C | some college       | standard     | completed | 69 | 90 | 88 | 82.33333 |\n",
       "| 3 | female | group B | master's degree    | standard     | none      | 90 | 95 | 93 | 92.66667 |\n",
       "| 4 | male   | group A | associate's degree | free/reduced | none      | 47 | 57 | 44 | 49.33333 |\n",
       "| 5 | male   | group C | some college       | standard     | none      | 76 | 78 | 75 | 76.33333 |\n",
       "\n"
      ],
      "text/plain": [
       "  gender race.ethnicity parental.level.of.education lunch       \n",
       "1 female group B        bachelor's degree           standard    \n",
       "2 female group C        some college                standard    \n",
       "3 female group B        master's degree             standard    \n",
       "4 male   group A        associate's degree          free/reduced\n",
       "5 male   group C        some college                standard    \n",
       "  test.preparation.course math.score reading.score writing.score Average_Vector\n",
       "1 none                    72         72            74            72.66667      \n",
       "2 completed               69         90            88            82.33333      \n",
       "3 none                    90         95            93            92.66667      \n",
       "4 none                    47         57            44            49.33333      \n",
       "5 none                    76         78            75            76.33333      "
      ]
     },
     "metadata": {},
     "output_type": "display_data"
    }
   ],
   "source": [
    "# Add the average scores to the data frame\n",
    "students_data_With_Average <- cbind(students_data, Average_Vector)\n",
    "\n",
    "# Display the first 5 rows of the new data frame\n",
    "head(students_data_With_Average, 5)"
   ]
  },
  {
   "cell_type": "code",
   "execution_count": 11,
   "metadata": {
    "vscode": {
     "languageId": "r"
    }
   },
   "outputs": [
    {
     "data": {
      "text/html": [
       "<span style=white-space:pre-wrap>'AverageScore_By_Gender is an  array'</span>"
      ],
      "text/latex": [
       "'AverageScore\\_By\\_Gender is an  array'"
      ],
      "text/markdown": [
       "<span style=white-space:pre-wrap>'AverageScore_By_Gender is an  array'</span>"
      ],
      "text/plain": [
       "[1] \"AverageScore_By_Gender is an  array\""
      ]
     },
     "metadata": {},
     "output_type": "display_data"
    },
    {
     "data": {
      "text/html": [
       "<style>\n",
       ".dl-inline {width: auto; margin:0; padding: 0}\n",
       ".dl-inline>dt, .dl-inline>dd {float: none; width: auto; display: inline-block}\n",
       ".dl-inline>dt::after {content: \":\\0020\"; padding-right: .5ex}\n",
       ".dl-inline>dt:not(:first-of-type) {padding-left: .5ex}\n",
       "</style><dl class=dl-inline><dt>female</dt><dd>69.5694980694981</dd><dt>male</dt><dd>65.8374827109267</dd></dl>\n"
      ],
      "text/latex": [
       "\\begin{description*}\n",
       "\\item[female] 69.5694980694981\n",
       "\\item[male] 65.8374827109267\n",
       "\\end{description*}\n"
      ],
      "text/markdown": [
       "female\n",
       ":   69.5694980694981male\n",
       ":   65.8374827109267\n",
       "\n"
      ],
      "text/plain": [
       "  female     male \n",
       "69.56950 65.83748 "
      ]
     },
     "metadata": {},
     "output_type": "display_data"
    }
   ],
   "source": [
    "#Grouped the Average Score by Gender using the tapply function\n",
    "\n",
    "# Gender Factor\n",
    "factor <- students_data_With_Average$gender\n",
    "\n",
    "# Average Score Vector\n",
    "vector <- students_data_With_Average$Average_Vector\n",
    "\n",
    "\n",
    "# tapply is a function that applies a function to subsets of a vector\n",
    "    # tapply(vector, factor, function)\n",
    "    # the result is a array\n",
    "\n",
    "AverageScore_By_Gender <- tapply(vector, factor, mean)\n",
    "paste(\"AverageScore_By_Gender is an \", class(AverageScore_By_Gender))\n",
    "AverageScore_By_Gender"
   ]
  },
  {
   "cell_type": "code",
   "execution_count": 12,
   "metadata": {
    "vscode": {
     "languageId": "r"
    }
   },
   "outputs": [
    {
     "data": {
      "image/png": "[encoded data removed]",
      "text/plain": [
       "Plot with title \"Average Score by Gender\""
      ]
     },
     "metadata": {
      "image/png": {
       "height": 420,
       "width": 420
      }
     },
     "output_type": "display_data"
    }
   ],
   "source": [
    "# Define colors for each gender\n",
    "colors <- c(\"pink\", \"blue\")  # Adjust as needed based on your gender levels\n",
    "\n",
    "# Create the bar plot with average scores by gender\n",
    "barplot(\n",
    "    AverageScore_By_Gender,\n",
    "    width = 1,\n",
    "    density = 50,\n",
    "    col = colors,\n",
    "    legend = names(AverageScore_By_Gender),\n",
    "    main = \"Average Score by Gender\",\n",
    "    xlab = \"Gender\",\n",
    "    ylab = \"Average Score\"\n",
    ")"
   ]
  },
  {
   "cell_type": "markdown",
   "metadata": {},
   "source": [
    "### Task 02: Does the level of parental education impact the performance of students in different subjects? \n",
    "\n",
    "(Hint: check the impact for each subjects)"
   ]
  },
  {
   "cell_type": "markdown",
   "metadata": {},
   "source": [
    "##### Solution By Using Bar Plot"
   ]
  },
  {
   "cell_type": "code",
   "execution_count": 13,
   "metadata": {
    "vscode": {
     "languageId": "r"
    }
   },
   "outputs": [
    {
     "data": {
      "text/html": [
       "<table class=\"dataframe\">\n",
       "<caption>A matrix: 2 × 3 of type dbl</caption>\n",
       "<thead>\n",
       "\t<tr><th></th><th scope=col>Math_Course</th><th scope=col>Reading_Course</th><th scope=col>Writing_Course</th></tr>\n",
       "</thead>\n",
       "<tbody>\n",
       "\t<tr><th scope=row>completed</th><td>69.69553</td><td>73.89385</td><td>74.41899</td></tr>\n",
       "\t<tr><th scope=row>none</th><td>64.07788</td><td>66.53427</td><td>64.50467</td></tr>\n",
       "</tbody>\n",
       "</table>\n"
      ],
      "text/latex": [
       "A matrix: 2 × 3 of type dbl\n",
       "\\begin{tabular}{r|lll}\n",
       "  & Math\\_Course & Reading\\_Course & Writing\\_Course\\\\\n",
       "\\hline\n",
       "\tcompleted & 69.69553 & 73.89385 & 74.41899\\\\\n",
       "\tnone & 64.07788 & 66.53427 & 64.50467\\\\\n",
       "\\end{tabular}\n"
      ],
      "text/markdown": [
       "\n",
       "A matrix: 2 × 3 of type dbl\n",
       "\n",
       "| <!--/--> | Math_Course | Reading_Course | Writing_Course |\n",
       "|---|---|---|---|\n",
       "| completed | 69.69553 | 73.89385 | 74.41899 |\n",
       "| none | 64.07788 | 66.53427 | 64.50467 |\n",
       "\n"
      ],
      "text/plain": [
       "          Math_Course Reading_Course Writing_Course\n",
       "completed 69.69553    73.89385       74.41899      \n",
       "none      64.07788    66.53427       64.50467      "
      ]
     },
     "metadata": {},
     "output_type": "display_data"
    }
   ],
   "source": [
    "#Compute the Average Math Score by Test Preparation Course using the tapply function\n",
    "Math_Course <- tapply(students_data$math.score, students_data$test.preparation.course, mean)\n",
    "\n",
    "# Grouped the Reading Score by Test Preparation Course using the tapply function\n",
    "Reading_Course <- tapply(students_data$reading.score, students_data$test.preparation.course, mean)\n",
    "\n",
    "# Grouped the Writing Score by Test Preparation Course using the tapply function\n",
    "Writing_Course <- tapply(students_data$writing.score, students_data$test.preparation.course, mean)\n",
    "\n",
    "Preparation_Vs_Courses <- cbind(Math_Course, Reading_Course, Writing_Course)\n",
    "Preparation_Vs_Courses"
   ]
  },
  {
   "cell_type": "code",
   "execution_count": 14,
   "metadata": {
    "vscode": {
     "languageId": "r"
    }
   },
   "outputs": [
    {
     "data": {
      "image/png": "[encoded data removed]",
      "text/plain": [
       "Plot with title \"Average Scores by Test Preparation Levels\""
      ]
     },
     "metadata": {
      "image/png": {
       "height": 420,
       "width": 420
      }
     },
     "output_type": "display_data"
    }
   ],
   "source": [
    "barplot(\n",
    "    Preparation_Vs_Courses,\n",
    "    beside = TRUE,\n",
    "    col = c(\"green\", \"red\"),\n",
    "    density = 30,\n",
    "    legend = rownames(Preparation_Vs_Courses),\n",
    "    main = \"Average Scores by Test Preparation Levels\",\n",
    "    xlab = \"Test Preparation Course\",\n",
    "    ylab = \"Average Score\"\n",
    ")"
   ]
  },
  {
   "cell_type": "markdown",
   "metadata": {},
   "source": [
    "The Barplot above illustrates that the students who complete the preparation course over the Three subjects get greater average scores than the students who do not complete the preparation course."
   ]
  },
  {
   "cell_type": "markdown",
   "metadata": {},
   "source": [
    "##### Solution By Using Scatter Plot"
   ]
  },
  {
   "cell_type": "code",
   "execution_count": 15,
   "metadata": {
    "vscode": {
     "languageId": "r"
    }
   },
   "outputs": [],
   "source": [
    "# Split the data by test preparation course\n",
    "\n",
    "# Define the variables\n",
    "test_preparation <- students_data$test.preparation.course\n",
    "math_score <- students_data$math.score\n",
    "reading_score <- students_data$reading.score\n",
    "writing_score <- students_data$writing.score\n",
    "\n",
    "# split is a function that splits a vector into subsets\n",
    "    # split(x, f)\n",
    "    # x is the vector\n",
    "    # f is the factor\n",
    "    # the result is a list\n",
    "\n",
    "# split the data by test preparation course\n",
    "split_math_score <- split(math_score, test_preparation)\n",
    "split_reading_score <- split(reading_score, test_preparation)\n",
    "split_writing_score <- split(writing_score, test_preparation)"
   ]
  },
  {
   "cell_type": "code",
   "execution_count": 16,
   "metadata": {
    "vscode": {
     "languageId": "r"
    }
   },
   "outputs": [
    {
     "data": {
      "image/png": "[encoded data removed]",
      "text/plain": [
       "Plot with title \"Courses Scores by Test Preparation Levels\""
      ]
     },
     "metadata": {
      "image/png": {
       "height": 420,
       "width": 420
      }
     },
     "output_type": "display_data"
    }
   ],
   "source": [
    "plot(split_math_score$completed,col = \"green\", pch = 24,main = \"Courses Scores by Test Preparation Levels\",xlab = \"Student\",ylab = \"Score\")\n",
    "points(split_math_score$none,col = \"red\", pch = 24)\n",
    "points(split_reading_score$completed,col = \"green\", pch = 22)\n",
    "points(split_reading_score$none,col = \"red\", pch = 22)\n",
    "points(split_writing_score$completed,col = \"green\", pch = 21)\n",
    "points(split_writing_score$none,col = \"red\", pch = 21)\n",
    "\n",
    "Legends <- c(\"Math Compeleted\", \"Math None\", \"Reading Compeleted\", \"Reading None\", \"Writing Compeleted\", \"Writing None\")\n",
    "Colors <- c(\"green\", \"red\")\n",
    "pchs <- c(24, 24, 22, 22, 21, 21)\n",
    "legend(\"bottomright\", legend = Legends, col = Colors, pch = pchs, title = \"Test Preparation Course\")"
   ]
  },
  {
   "cell_type": "markdown",
   "metadata": {},
   "source": [
    "As Shown in the scatter plot above, the green shapes are gathered at the top and middle of the plot, which represents that: \n",
    "- the students who completed the preparation course got average and high scores \n",
    "\n",
    "Also, as illustrated in the graph, the red shapes are gathered at the bottom of the plot, which represents that: \n",
    "- the students who did not complete the preparation course got average and low scores"
   ]
  },
  {
   "cell_type": "markdown",
   "metadata": {},
   "source": [
    "### Task 03: How do the test scores vary among students from different racial/ethnic groups?"
   ]
  },
  {
   "cell_type": "code",
   "execution_count": 17,
   "metadata": {
    "vscode": {
     "languageId": "r"
    }
   },
   "outputs": [
    {
     "data": {
      "text/html": [
       "<table class=\"dataframe\">\n",
       "<caption>A matrix: 3 × 5 of type dbl</caption>\n",
       "<tbody>\n",
       "\t<tr><th scope=row>math_scores_groupby_ethnic</th><td>61.62921</td><td>63.45263</td><td>64.46395</td><td>67.36260</td><td>73.82143</td></tr>\n",
       "\t<tr><th scope=row>reading_scores_groupby_ethnic</th><td>64.67416</td><td>67.35263</td><td>69.10345</td><td>70.03053</td><td>73.02857</td></tr>\n",
       "\t<tr><th scope=row>writing_scores_groupby_ethnic</th><td>62.67416</td><td>65.60000</td><td>67.82759</td><td>70.14504</td><td>71.40714</td></tr>\n",
       "</tbody>\n",
       "</table>\n"
      ],
      "text/latex": [
       "A matrix: 3 × 5 of type dbl\n",
       "\\begin{tabular}{r|lllll}\n",
       "\tmath\\_scores\\_groupby\\_ethnic & 61.62921 & 63.45263 & 64.46395 & 67.36260 & 73.82143\\\\\n",
       "\treading\\_scores\\_groupby\\_ethnic & 64.67416 & 67.35263 & 69.10345 & 70.03053 & 73.02857\\\\\n",
       "\twriting\\_scores\\_groupby\\_ethnic & 62.67416 & 65.60000 & 67.82759 & 70.14504 & 71.40714\\\\\n",
       "\\end{tabular}\n"
      ],
      "text/markdown": [
       "\n",
       "A matrix: 3 × 5 of type dbl\n",
       "\n",
       "| math_scores_groupby_ethnic | 61.62921 | 63.45263 | 64.46395 | 67.36260 | 73.82143 |\n",
       "| reading_scores_groupby_ethnic | 64.67416 | 67.35263 | 69.10345 | 70.03053 | 73.02857 |\n",
       "| writing_scores_groupby_ethnic | 62.67416 | 65.60000 | 67.82759 | 70.14504 | 71.40714 |\n",
       "\n"
      ],
      "text/plain": [
       "                              [,1]     [,2]     [,3]     [,4]     [,5]    \n",
       "math_scores_groupby_ethnic    61.62921 63.45263 64.46395 67.36260 73.82143\n",
       "reading_scores_groupby_ethnic 64.67416 67.35263 69.10345 70.03053 73.02857\n",
       "writing_scores_groupby_ethnic 62.67416 65.60000 67.82759 70.14504 71.40714"
      ]
     },
     "metadata": {},
     "output_type": "display_data"
    }
   ],
   "source": [
    "# Create a data frame with the average courses scores groubed by the ethnic groups\n",
    "\n",
    "# Define the groups:\n",
    "Ethnic_Groups <- levels(students_data$race.ethnicity)\n",
    "\n",
    "# aggregate(y ~ x, data, function)\n",
    "    # y ~ x means that we want to aggregate y by x\n",
    "    # data is the data frame\n",
    "    # function is the function to apply\n",
    "# The result is a data frame\n",
    "\n",
    "# Calculate the average scores for each group using the aggregate function\n",
    "math_scores_groupby_ethnic <- aggregate(math.score ~ race.ethnicity, students_data, mean)$math.score\n",
    "reading_scores_groupby_ethnic <- aggregate(reading.score ~ race.ethnicity, students_data, mean)$reading.score\n",
    "writing_scores_groupby_ethnic <- aggregate(writing.score ~ race.ethnicity, students_data, mean)$writing.score\n",
    "\n",
    "# Create the data frame to combine the results\n",
    "courses_groupby_ethnic <- rbind(math_scores_groupby_ethnic, reading_scores_groupby_ethnic, writing_scores_groupby_ethnic)\n",
    "courses_groupby_ethnic"
   ]
  },
  {
   "cell_type": "code",
   "execution_count": 18,
   "metadata": {
    "vscode": {
     "languageId": "r"
    }
   },
   "outputs": [
    {
     "data": {
      "text/html": [
       "<table class=\"dataframe\">\n",
       "<caption>A matrix: 3 × 5 of type dbl</caption>\n",
       "<tbody>\n",
       "\t<tr><th scope=row>Math Avg Scores</th><td>61.62921</td><td>63.45263</td><td>64.46395</td><td>67.36260</td><td>73.82143</td></tr>\n",
       "\t<tr><th scope=row>Reading Avg Scores</th><td>64.67416</td><td>67.35263</td><td>69.10345</td><td>70.03053</td><td>73.02857</td></tr>\n",
       "\t<tr><th scope=row>Writing Avg Scores</th><td>62.67416</td><td>65.60000</td><td>67.82759</td><td>70.14504</td><td>71.40714</td></tr>\n",
       "</tbody>\n",
       "</table>\n"
      ],
      "text/latex": [
       "A matrix: 3 × 5 of type dbl\n",
       "\\begin{tabular}{r|lllll}\n",
       "\tMath Avg Scores & 61.62921 & 63.45263 & 64.46395 & 67.36260 & 73.82143\\\\\n",
       "\tReading Avg Scores & 64.67416 & 67.35263 & 69.10345 & 70.03053 & 73.02857\\\\\n",
       "\tWriting Avg Scores & 62.67416 & 65.60000 & 67.82759 & 70.14504 & 71.40714\\\\\n",
       "\\end{tabular}\n"
      ],
      "text/markdown": [
       "\n",
       "A matrix: 3 × 5 of type dbl\n",
       "\n",
       "| Math Avg Scores | 61.62921 | 63.45263 | 64.46395 | 67.36260 | 73.82143 |\n",
       "| Reading Avg Scores | 64.67416 | 67.35263 | 69.10345 | 70.03053 | 73.02857 |\n",
       "| Writing Avg Scores | 62.67416 | 65.60000 | 67.82759 | 70.14504 | 71.40714 |\n",
       "\n"
      ],
      "text/plain": [
       "                   [,1]     [,2]     [,3]     [,4]     [,5]    \n",
       "Math Avg Scores    61.62921 63.45263 64.46395 67.36260 73.82143\n",
       "Reading Avg Scores 64.67416 67.35263 69.10345 70.03053 73.02857\n",
       "Writing Avg Scores 62.67416 65.60000 67.82759 70.14504 71.40714"
      ]
     },
     "metadata": {},
     "output_type": "display_data"
    }
   ],
   "source": [
    "# Add row and column names to the matrix\n",
    "colnames(courses_groupby_ethnic) <- Ethnic_Groups # Groups\n",
    "rownames(courses_groupby_ethnic) <- c(\"Math Avg Scores\", \"Reading Avg Scores\", \"Writing Avg Scores\") # Courses\n",
    "courses_groupby_ethnic"
   ]
  },
  {
   "cell_type": "code",
   "execution_count": 19,
   "metadata": {
    "vscode": {
     "languageId": "r"
    }
   },
   "outputs": [
    {
     "data": {
      "image/png": "[encoded data removed]",
      "text/plain": [
       "Plot with title \"Test Scores Vary Among Students From Different Racial Groups\""
      ]
     },
     "metadata": {
      "image/png": {
       "height": 420,
       "width": 420
      }
     },
     "output_type": "display_data"
    }
   ],
   "source": [
    "colors <- c(\"green\", \"blue\", \"purple\")\n",
    "\n",
    "barplot(\n",
    "    courses_groupby_ethnic,\n",
    "    beside = TRUE,\n",
    "    col = colors,\n",
    "    density = 70,\n",
    "    main = \"Test Scores Vary Among Students From Different Racial Groups\",\n",
    "    xlab = \"Ethnicity Groups\",\n",
    "    ylab = \"Average Courses Scores\"\n",
    ")\n",
    "\n",
    "legend(\"bottomright\", legend = rownames(courses_groupby_ethnic), fill = colors, title = \"Courses\")"
   ]
  },
  {
   "cell_type": "markdown",
   "metadata": {},
   "source": [
    "The graph above is a bar chart which illustrate the how do the test scores vary among students from different racial/ethnic groups.\n",
    "\n",
    "- The x axis shows the Ethnicity Groups\n",
    "- The y axis shows the average courses scoures\n",
    "\n",
    "Observations:\n",
    "- The average courses scourse are increase repidlly from Group A till Group E\n",
    "- Group A has the lowies average courses scours\n",
    "- Group E has the highies average courses scours\n",
    "- The Groups A, B and C have better scores in reading course than math and writing courses.\n",
    "- Group E have better scores in math course than reading and writing courses.\n"
   ]
  }
 ],
 "metadata": {
  "kernelspec": {
   "display_name": "R",
   "language": "R",
   "name": "ir"
  },
  "language_info": {
   "codemirror_mode": "r",
   "file_extension": ".r",
   "mimetype": "text/x-r-source",
   "name": "R",
   "pygments_lexer": "r",
   "version": "4.4.1"
  }
 },
 "nbformat": 4,
 "nbformat_minor": 2
}
